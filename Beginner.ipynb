{
  "nbformat": 4,
  "nbformat_minor": 0,
  "metadata": {
    "colab": {
      "provenance": [],
      "authorship_tag": "ABX9TyOBhv0O9Al1d+kXvPtHzy+9",
      "include_colab_link": true
    },
    "kernelspec": {
      "name": "python3",
      "display_name": "Python 3"
    },
    "language_info": {
      "name": "python"
    }
  },
  "cells": [
    {
      "cell_type": "markdown",
      "metadata": {
        "id": "view-in-github",
        "colab_type": "text"
      },
      "source": [
        "<a href=\"https://colab.research.google.com/github/prayagsat99/Python/blob/main/Beginner.ipynb\" target=\"_parent\"><img src=\"https://colab.research.google.com/assets/colab-badge.svg\" alt=\"Open In Colab\"/></a>"
      ]
    },
    {
      "cell_type": "code",
      "execution_count": 5,
      "metadata": {
        "colab": {
          "base_uri": "https://localhost:8080/"
        },
        "id": "NLcXhi55i8Xj",
        "outputId": "b1749168-3ee0-49af-cc3c-1853689a22c6"
      },
      "outputs": [
        {
          "output_type": "stream",
          "name": "stdout",
          "text": [
            "Enter first number:5\n",
            "Enter second number:1\n",
            "Enter third number:4\n",
            "5\n"
          ]
        }
      ],
      "source": [
        "#Find greatest of three numbers\n",
        "a = int(input(\"Enter first number:\"))\n",
        "b = int(input(\"Enter second number:\"))\n",
        "c = int(input(\"Enter third number:\"))\n",
        "\n",
        "if a >= b and a >= c:\n",
        "    print(a)\n",
        "elif b >= a and b >= c:\n",
        "    print(b)\n",
        "else:\n",
        "    print(c)\n"
      ]
    },
    {
      "cell_type": "code",
      "source": [
        "#factorial of a number\n",
        "n=int(input())\n",
        "fact = 1\n",
        "for i in range(2, n+1):\n",
        "    fact *= i\n",
        "print(fact)   \n"
      ],
      "metadata": {
        "colab": {
          "base_uri": "https://localhost:8080/"
        },
        "id": "YJmX4ZSvj6NZ",
        "outputId": "8af52ce9-de9c-4176-a067-cf5bf1dc7643"
      },
      "execution_count": 21,
      "outputs": [
        {
          "output_type": "stream",
          "name": "stdout",
          "text": [
            "5\n",
            "120\n"
          ]
        }
      ]
    },
    {
      "cell_type": "code",
      "source": [
        "#Odd or Eve or Zero | Round of decimal to nearest integer\n",
        "n=round(float(input()))\n",
        "if n%2!=0:\n",
        "    print(\"Odd\")\n",
        "elif n==0:\n",
        "    print(\"Zero\")\n",
        "else:\n",
        "    print(\"Even\")"
      ],
      "metadata": {
        "colab": {
          "base_uri": "https://localhost:8080/"
        },
        "id": "PUBfol-smCJg",
        "outputId": "31f6df5d-bcd5-4288-d53e-2382206eaa6a"
      },
      "execution_count": 49,
      "outputs": [
        {
          "output_type": "stream",
          "name": "stdout",
          "text": [
            "9.7\n",
            "Even\n"
          ]
        }
      ]
    },
    {
      "cell_type": "code",
      "source": [
        "25\n"
      ],
      "metadata": {
        "colab": {
          "base_uri": "https://localhost:8080/"
        },
        "id": "pfUsYADUrCCY",
        "outputId": "8e957dbd-d78f-4ae3-a368-9c93c4d5f385"
      },
      "execution_count": 47,
      "outputs": [
        {
          "output_type": "execute_result",
          "data": {
            "text/plain": [
              "25"
            ]
          },
          "metadata": {},
          "execution_count": 47
        }
      ]
    },
    {
      "cell_type": "code",
      "source": [],
      "metadata": {
        "id": "71fDXYeosw_s"
      },
      "execution_count": null,
      "outputs": []
    }
  ]
}