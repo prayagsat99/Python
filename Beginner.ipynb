{
  "nbformat": 4,
  "nbformat_minor": 0,
  "metadata": {
    "colab": {
      "provenance": [],
      "authorship_tag": "ABX9TyPkrhMitvGGZuECkMq8MkoQ",
      "include_colab_link": true
    },
    "kernelspec": {
      "name": "python3",
      "display_name": "Python 3"
    },
    "language_info": {
      "name": "python"
    }
  },
  "cells": [
    {
      "cell_type": "markdown",
      "metadata": {
        "id": "view-in-github",
        "colab_type": "text"
      },
      "source": [
        "<a href=\"https://colab.research.google.com/github/prayagsat99/Python/blob/main/Beginner.ipynb\" target=\"_parent\"><img src=\"https://colab.research.google.com/assets/colab-badge.svg\" alt=\"Open In Colab\"/></a>"
      ]
    },
    {
      "cell_type": "code",
      "execution_count": 50,
      "metadata": {
        "colab": {
          "base_uri": "https://localhost:8080/"
        },
        "id": "NLcXhi55i8Xj",
        "outputId": "10c77075-bc89-4930-892b-a97f27252175"
      },
      "outputs": [
        {
          "output_type": "stream",
          "name": "stdout",
          "text": [
            "Enter first number:6\n",
            "Enter second number:2\n",
            "Enter third number:9\n",
            "Greatest number is numc: 9\n"
          ]
        }
      ],
      "source": [
        "#Find greatest of three numbers\n",
        "a = int(input(\"Enter first number:\"))\n",
        "b = int(input(\"Enter second number:\"))\n",
        "c = int(input(\"Enter third number:\"))\n",
        "\n",
        "if a >= b and a >= c:\n",
        "    print(\"Greatest number is numa:\",a)\n",
        "elif b >= a and b >= c:\n",
        "    print(\"Greatest number is numb:\",b)\n",
        "else:\n",
        "    print(\"Greatest number is numc:\",c)\n"
      ]
    },
    {
      "cell_type": "code",
      "source": [
        "#factorial of a number\n",
        "n=int(input())\n",
        "fact = 1\n",
        "for i in range(2, n+1):\n",
        "    fact *= i\n",
        "print(\"Factorial of\",n,\"is:\",fact)   \n"
      ],
      "metadata": {
        "colab": {
          "base_uri": "https://localhost:8080/"
        },
        "id": "YJmX4ZSvj6NZ",
        "outputId": "7659cd6b-ce03-4266-aea3-a735588e3f14"
      },
      "execution_count": 52,
      "outputs": [
        {
          "output_type": "stream",
          "name": "stdout",
          "text": [
            "5\n",
            "Factorial of 5 is: 120\n"
          ]
        }
      ]
    },
    {
      "cell_type": "code",
      "source": [
        "#Odd or Eve or Zero | Round of decimal to nearest integer\n",
        "n=round(float(input()))\n",
        "if n%2!=0:\n",
        "    print(\"Odd\")\n",
        "elif n==0:\n",
        "    print(\"Zero\")\n",
        "else:\n",
        "    print(\"Even\")"
      ],
      "metadata": {
        "colab": {
          "base_uri": "https://localhost:8080/"
        },
        "id": "PUBfol-smCJg",
        "outputId": "31f6df5d-bcd5-4288-d53e-2382206eaa6a"
      },
      "execution_count": 49,
      "outputs": [
        {
          "output_type": "stream",
          "name": "stdout",
          "text": [
            "9.7\n",
            "Even\n"
          ]
        }
      ]
    },
    {
      "cell_type": "code",
      "source": [
        "25\n"
      ],
      "metadata": {
        "colab": {
          "base_uri": "https://localhost:8080/"
        },
        "id": "pfUsYADUrCCY",
        "outputId": "8e957dbd-d78f-4ae3-a368-9c93c4d5f385"
      },
      "execution_count": 47,
      "outputs": [
        {
          "output_type": "execute_result",
          "data": {
            "text/plain": [
              "25"
            ]
          },
          "metadata": {},
          "execution_count": 47
        }
      ]
    },
    {
      "cell_type": "code",
      "source": [],
      "metadata": {
        "id": "71fDXYeosw_s"
      },
      "execution_count": null,
      "outputs": []
    }
  ]
}