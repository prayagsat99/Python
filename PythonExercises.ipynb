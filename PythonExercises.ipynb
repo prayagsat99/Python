{
  "nbformat": 4,
  "nbformat_minor": 0,
  "metadata": {
    "colab": {
      "provenance": [],
      "authorship_tag": "ABX9TyO4olEI9tdRDEGIEUYdA7X4",
      "include_colab_link": true
    },
    "kernelspec": {
      "name": "python3",
      "display_name": "Python 3"
    },
    "language_info": {
      "name": "python"
    }
  },
  "cells": [
    {
      "cell_type": "markdown",
      "metadata": {
        "id": "view-in-github",
        "colab_type": "text"
      },
      "source": [
        "<a href=\"https://colab.research.google.com/github/prayagsat99/python/blob/main/PythonExercises.ipynb\" target=\"_parent\"><img src=\"https://colab.research.google.com/assets/colab-badge.svg\" alt=\"Open In Colab\"/></a>"
      ]
    },
    {
      "cell_type": "markdown",
      "source": [
        "**Python Fundamentals**"
      ],
      "metadata": {
        "id": "rmGJdf3PqqRH"
      }
    },
    {
      "cell_type": "code",
      "execution_count": 1,
      "metadata": {
        "colab": {
          "base_uri": "https://localhost:8080/"
        },
        "id": "ghNubjRrqKCb",
        "outputId": "8ca4de54-4117-4414-92ff-0c8244efea00"
      },
      "outputs": [
        {
          "output_type": "stream",
          "name": "stdout",
          "text": [
            "Enter your name:Prayag Sathyanath\n",
            "Prayag Sathyanath\n"
          ]
        }
      ],
      "source": [
        "name=input(\"Enter your name:\")\n",
        "print(name)"
      ]
    }
  ]
}