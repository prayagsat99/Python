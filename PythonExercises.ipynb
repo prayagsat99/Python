{
  "nbformat": 4,
  "nbformat_minor": 0,
  "metadata": {
    "colab": {
      "provenance": [],
      "authorship_tag": "ABX9TyP1/+wn/1i8LdIwAK19KaSP",
      "include_colab_link": true
    },
    "kernelspec": {
      "name": "python3",
      "display_name": "Python 3"
    },
    "language_info": {
      "name": "python"
    }
  },
  "cells": [
    {
      "cell_type": "markdown",
      "metadata": {
        "id": "view-in-github",
        "colab_type": "text"
      },
      "source": [
        "<a href=\"https://colab.research.google.com/github/prayagsat99/Python/blob/main/PythonExercises.ipynb\" target=\"_parent\"><img src=\"https://colab.research.google.com/assets/colab-badge.svg\" alt=\"Open In Colab\"/></a>"
      ]
    },
    {
      "cell_type": "markdown",
      "source": [
        "# **Python Fundamentals** "
      ],
      "metadata": {
        "id": "rmGJdf3PqqRH"
      }
    },
    {
      "cell_type": "markdown",
      "source": [
        "##Taking an input by prompt and printing the values"
      ],
      "metadata": {
        "id": "WxvC1XepEr4Y"
      }
    },
    {
      "cell_type": "code",
      "execution_count": null,
      "metadata": {
        "colab": {
          "base_uri": "https://localhost:8080/",
          "height": 70
        },
        "id": "ghNubjRrqKCb",
        "outputId": "6a110304-0ae7-46cc-d789-da43cc39cc4f"
      },
      "outputs": [
        {
          "output_type": "stream",
          "name": "stdout",
          "text": [
            "Enter your name: prayag\n",
            "Your name is prayag\n"
          ]
        },
        {
          "output_type": "execute_result",
          "data": {
            "text/plain": [
              "'My name is prayag'"
            ],
            "application/vnd.google.colaboratory.intrinsic+json": {
              "type": "string"
            }
          },
          "metadata": {},
          "execution_count": 20
        }
      ],
      "source": [
        "name=input(\"Enter your name: \")\n",
        "print(\"Your name is\", name)\n",
        "f'My name is {name}'   #use the variable you want to print in{}"
      ]
    },
    {
      "cell_type": "markdown",
      "source": [
        "##Swapping two variables"
      ],
      "metadata": {
        "id": "8zrzLUCVF8EC"
      }
    },
    {
      "cell_type": "code",
      "source": [
        "#Method one - using a temporary variable\n",
        "a=10\n",
        "b=5\n",
        "temp=a\n",
        "a=b\n",
        "b=temp\n",
        "print(\"the value of a is: \"+str(a) + \" and \"+ \"the value of b is: \"+str(b))"
      ],
      "metadata": {
        "colab": {
          "base_uri": "https://localhost:8080/"
        },
        "id": "AoBcnUMSGFWU",
        "outputId": "1e01e610-34d5-4972-b83d-fed415785063"
      },
      "execution_count": null,
      "outputs": [
        {
          "output_type": "stream",
          "name": "stdout",
          "text": [
            "the value of a is: 5 and the value of b is: 10\n"
          ]
        }
      ]
    },
    {
      "cell_type": "code",
      "source": [
        "#Method two - by tuple exchange | unpacking the tuple and assigning the values to the variables in reverse order.\n",
        "a=10\n",
        "b=5\n",
        "a,b=b,a\n",
        "print(\"the value of a is: \"+str(a) + \" and \"+ \"the value of b is: \"+str(b))"
      ],
      "metadata": {
        "colab": {
          "base_uri": "https://localhost:8080/"
        },
        "id": "J_TKMfyyH3zm",
        "outputId": "12a347e3-6fc3-42f7-ed8d-dc8a414d8c72"
      },
      "execution_count": null,
      "outputs": [
        {
          "output_type": "stream",
          "name": "stdout",
          "text": [
            "the value of a is: 5 and the value of b is: 10\n"
          ]
        }
      ]
    },
    {
      "cell_type": "code",
      "source": [
        "#Method three - by arithmetic operation\n",
        "a=10\n",
        "b=5\n",
        "a=a+b\n",
        "b=a-b\n",
        "a=a-b\n",
        "print(\"the value of a is: \"+str(a) + \" and \"+ \"the value of b is: \"+str(b))"
      ],
      "metadata": {
        "colab": {
          "base_uri": "https://localhost:8080/"
        },
        "id": "aKh_D5S6IJZC",
        "outputId": "ef901dda-a4a2-4ec7-c1ee-b459a7137448"
      },
      "execution_count": null,
      "outputs": [
        {
          "output_type": "stream",
          "name": "stdout",
          "text": [
            "the value of a is: 5 and the value of b is: 10\n"
          ]
        }
      ]
    },
    {
      "cell_type": "markdown",
      "source": [
        "## String Slicing"
      ],
      "metadata": {
        "id": "XH0CMFkyUKbH"
      }
    },
    {
      "cell_type": "code",
      "source": [
        "name=\"Prayag Sathyanath\"\n",
        "print(name[0:10]) #prints from index 0 to 9\n",
        "print(name[7:])   #prints from index 8 to last char\n",
        "print(name[:10])  #prints from index 0 to 9\n",
        "print(name[-12:]) #prints from index -12 to -1\n",
        "print(name[:-1])  #prints from index -1 to first"
      ],
      "metadata": {
        "colab": {
          "base_uri": "https://localhost:8080/"
        },
        "id": "zAtbUi4pUQ6Q",
        "outputId": "91fd4c7e-15bf-4e90-e854-8a4f16b95ee1"
      },
      "execution_count": null,
      "outputs": [
        {
          "output_type": "stream",
          "name": "stdout",
          "text": [
            "Prayag Sat\n",
            "Sathyanath\n",
            "Prayag Sat\n",
            "g Sathyanath\n",
            "Prayag Sathyanat\n"
          ]
        }
      ]
    },
    {
      "cell_type": "markdown",
      "source": [
        "##Print String - Step Slicing | Starting Index : Ending Index : Step Count"
      ],
      "metadata": {
        "id": "Wlt7MZVDQxRt"
      }
    },
    {
      "cell_type": "code",
      "source": [
        "string=\"HelloWorld\"\n",
        "print(string[::2])   #prints from 0 index to last index with step2\n",
        "print(string[2:9:3]) #prints from 2 index to 9-1 index with step3\n",
        "print(string[:8:2])  #prints from 0 index to 8-1 index with step2"
      ],
      "metadata": {
        "id": "36M-R6yuUZXu",
        "colab": {
          "base_uri": "https://localhost:8080/"
        },
        "outputId": "d13f96aa-28ce-4488-cb6d-af0a1942b490"
      },
      "execution_count": null,
      "outputs": [
        {
          "output_type": "stream",
          "name": "stdout",
          "text": [
            "Hlool\n",
            "lWl\n",
            "Hloo\n"
          ]
        }
      ]
    },
    {
      "cell_type": "markdown",
      "source": [
        "##How to Print Reverse of a String using Step Slicing\n"
      ],
      "metadata": {
        "id": "zyb_E-zLSthW"
      }
    },
    {
      "cell_type": "code",
      "source": [
        "#method 1 - using step slicing\n",
        "name=\"Prayag\"\n",
        "print(name[::-1])"
      ],
      "metadata": {
        "colab": {
          "base_uri": "https://localhost:8080/"
        },
        "id": "gStkdHTqQZGY",
        "outputId": "831c581f-dfd4-4610-bfe5-73f29d9c5914"
      },
      "execution_count": null,
      "outputs": [
        {
          "output_type": "stream",
          "name": "stdout",
          "text": [
            "gayarP\n"
          ]
        }
      ]
    },
    {
      "cell_type": "code",
      "source": [
        "#method -2 using string reversal + for loop\n",
        "name=\"Prayag\"\n",
        "for x in reversed(name):\n",
        "  print(x,end=\"\")  "
      ],
      "metadata": {
        "colab": {
          "base_uri": "https://localhost:8080/"
        },
        "id": "4epcaCba5CjU",
        "outputId": "77c04cd8-9826-4f21-942d-2c5687b7a279"
      },
      "execution_count": null,
      "outputs": [
        {
          "output_type": "stream",
          "name": "stdout",
          "text": [
            "gayarP"
          ]
        }
      ]
    },
    {
      "cell_type": "markdown",
      "source": [
        "##Palindrom Program using different methods\n"
      ],
      "metadata": {
        "id": "zjQxWZQyTJFW"
      }
    },
    {
      "cell_type": "code",
      "source": [
        "#method1 - using string step slicing\n",
        "word=input(\"Enter the word:\")\n",
        "print(\"Reverse of the string is:\",word[::-1])\n",
        "if word[::-1] == word :\n",
        "  print(\" It's a palindrom\")\n",
        "else:\n",
        "  print(\"It's not a palindrom\")"
      ],
      "metadata": {
        "colab": {
          "base_uri": "https://localhost:8080/"
        },
        "id": "gTYzDUwGTDgc",
        "outputId": "676779f3-7444-4f30-cace-679c05147d70"
      },
      "execution_count": null,
      "outputs": [
        {
          "output_type": "stream",
          "name": "stdout",
          "text": [
            "Enter the word:malayalam\n",
            "Reverse of the string is: malayalam\n",
            " It's a palindrom\n"
          ]
        }
      ]
    },
    {
      "cell_type": "code",
      "source": [
        "#method2 - for loop +string reversal\n",
        "reversal=\"\"\n",
        "word=input(\"Enter the word:\")\n",
        "for x in reversed(word):\n",
        "  reversal=reversal+x\n",
        "print(\"Reverse of the string is: \",reversal)\n",
        "if reversal==word:\n",
        "  print(\"It is a palindrom\")\n",
        "else:\n",
        "  print(\"Not a palindrom\")   \n",
        "    "
      ],
      "metadata": {
        "colab": {
          "base_uri": "https://localhost:8080/"
        },
        "id": "eQ-0j5yd6Gei",
        "outputId": "3b92f6bd-32f9-4657-ce76-2d00e8c3d8cf"
      },
      "execution_count": null,
      "outputs": [
        {
          "output_type": "stream",
          "name": "stdout",
          "text": [
            "Enter the word:dad\n",
            "Reverse of the string is:  dad\n",
            "It is a palindrom\n"
          ]
        }
      ]
    },
    {
      "cell_type": "markdown",
      "source": [
        "## Case Program using methods"
      ],
      "metadata": {
        "id": "5d__JYK3-dk1"
      }
    },
    {
      "cell_type": "code",
      "source": [
        "string1=input(\"Enter the string: \")\n",
        "if string1.lower()==string1 :\n",
        "  print(\"Lowercase\")\n",
        "elif string1.upper()==string1 :\n",
        "  print(\"Uppercase\")\n",
        "else:\n",
        "  print(\"Upper and Lower Combination\")  \n",
        "    "
      ],
      "metadata": {
        "id": "2rZ_mj3NTya7",
        "colab": {
          "base_uri": "https://localhost:8080/"
        },
        "outputId": "f928b9db-a171-4e4b-fc20-addea19d2051"
      },
      "execution_count": null,
      "outputs": [
        {
          "output_type": "stream",
          "name": "stdout",
          "text": [
            "Enter the string: \n",
            "Lowercase\n"
          ]
        }
      ]
    },
    {
      "cell_type": "markdown",
      "source": [
        "##Count the occurence of a character in a string"
      ],
      "metadata": {
        "id": "kf_0s2V7CfI-"
      }
    },
    {
      "cell_type": "code",
      "source": [
        "#method 1 - using count()\n",
        "string1=\"prayag\"\n",
        "string1.count(\"a\")"
      ],
      "metadata": {
        "colab": {
          "base_uri": "https://localhost:8080/"
        },
        "id": "3KA67qK3ClI1",
        "outputId": "ad3f333e-c6a2-4a8f-bc74-7173a943325a"
      },
      "execution_count": null,
      "outputs": [
        {
          "output_type": "execute_result",
          "data": {
            "text/plain": [
              "2"
            ]
          },
          "metadata": {},
          "execution_count": 16
        }
      ]
    },
    {
      "cell_type": "code",
      "source": [
        "#method2- using for loop\n",
        "string1=\"prayag\"\n",
        "ccount=0\n",
        "print(string1)\n",
        "charsearch=input(\"enter the character to search\")\n",
        "for x in string1:\n",
        "  if x==charsearch:\n",
        "   ccount=ccount+1\n",
        "print(\"The character '\",charsearch,\"' occurs\",ccount,\"times\")  "
      ],
      "metadata": {
        "colab": {
          "base_uri": "https://localhost:8080/"
        },
        "id": "L_kLRSn878hr",
        "outputId": "093e7514-362c-48d7-dc89-55c3dfabb5aa"
      },
      "execution_count": null,
      "outputs": [
        {
          "output_type": "stream",
          "name": "stdout",
          "text": [
            "prayag\n",
            "enter the character to searchb\n",
            "The character ' b ' occurs 0 times\n"
          ]
        }
      ]
    },
    {
      "cell_type": "markdown",
      "source": [
        "##Check for substring\n"
      ],
      "metadata": {
        "id": "K4YdDj-DF17r"
      }
    },
    {
      "cell_type": "code",
      "source": [
        "team=\"Barcelona\"\n",
        "'cel' in team"
      ],
      "metadata": {
        "colab": {
          "base_uri": "https://localhost:8080/"
        },
        "id": "VpcGc6OFFl4I",
        "outputId": "4ace8fb1-214f-42c0-91c9-299915358741"
      },
      "execution_count": null,
      "outputs": [
        {
          "output_type": "execute_result",
          "data": {
            "text/plain": [
              "True"
            ]
          },
          "metadata": {},
          "execution_count": 21
        }
      ]
    },
    {
      "cell_type": "markdown",
      "source": [
        "#Class and Object"
      ],
      "metadata": {
        "id": "w2igR-PUlOag"
      }
    },
    {
      "cell_type": "code",
      "source": [
        "class Car():\n",
        "  def __init__(self,x,y,z):\n",
        "\n",
        "    self.name=str(x)\n",
        "    self.make=str(y)\n",
        "    self.version=int(z)\n",
        "\n",
        "c1=Car(\"Toyota\",\"Supra\",2023)\n",
        "print(c1.name,c1.make,c1.version)  "
      ],
      "metadata": {
        "id": "ilUGgpEs-xYS",
        "colab": {
          "base_uri": "https://localhost:8080/"
        },
        "outputId": "318247ed-afce-4874-aafe-4cf5aba18bac"
      },
      "execution_count": 10,
      "outputs": [
        {
          "output_type": "stream",
          "name": "stdout",
          "text": [
            "Toyota Supra 2023\n"
          ]
        }
      ]
    },
    {
      "cell_type": "markdown",
      "source": [
        "###Calculator using classes,objects and methods"
      ],
      "metadata": {
        "id": "815S8wfrofBn"
      }
    },
    {
      "cell_type": "code",
      "source": [
        "class calculator():\n",
        "  def __init__(self,x,y,z):\n",
        "    self.num1=int(x)\n",
        "    self.num2=int(y)\n",
        "    self.op=str(z)\n",
        "\n",
        "  def addition(self):\n",
        "    result=(self.num1+self.num2)\n",
        "    print(result)\n",
        "\n",
        "  def subtraction(self):\n",
        "    result=(self.num1-self.num2)\n",
        "    print(result) \n",
        "\n",
        "  def multiplication(self):\n",
        "    result=(self.num1*self.num2)\n",
        "    print(result)  \n",
        "\n",
        "  def division(self):\n",
        "    result=(self.num1/self.num2)\n",
        "    print(result)\n",
        "\n",
        "c2=calculator(10,20,\"Add\")\n",
        "\n",
        "if(c2.op)==\"Add\":\n",
        "   c2.addition()\n",
        "elif(c2.op)==\"Sub\": \n",
        "   c2.subtraction() \n",
        "elif(c2.op)==\"div\": \n",
        "   c2.division()\n",
        "elif(c2.op)==\"mul\": \n",
        "   c2.multiplication() \n",
        "else:\n",
        "   print(\"Wrong Operation\")             "
      ],
      "metadata": {
        "colab": {
          "base_uri": "https://localhost:8080/"
        },
        "id": "PtoFfgVzoeFq",
        "outputId": "6bf3bc64-4735-4db9-bbbf-d1f2a18de1b8"
      },
      "execution_count": 31,
      "outputs": [
        {
          "output_type": "stream",
          "name": "stdout",
          "text": [
            "30\n"
          ]
        }
      ]
    },
    {
      "cell_type": "code",
      "source": [],
      "metadata": {
        "id": "-Zc34e9Qo-dl"
      },
      "execution_count": null,
      "outputs": []
    },
    {
      "cell_type": "code",
      "source": [
        " "
      ],
      "metadata": {
        "id": "maSJqM7elqsu"
      },
      "execution_count": null,
      "outputs": []
    }
  ]
}