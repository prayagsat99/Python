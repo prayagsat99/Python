{
  "nbformat": 4,
  "nbformat_minor": 0,
  "metadata": {
    "colab": {
      "provenance": [],
      "authorship_tag": "ABX9TyPltf8Yn9+cVvW0Ufh6949t",
      "include_colab_link": true
    },
    "kernelspec": {
      "name": "python3",
      "display_name": "Python 3"
    },
    "language_info": {
      "name": "python"
    }
  },
  "cells": [
    {
      "cell_type": "markdown",
      "metadata": {
        "id": "view-in-github",
        "colab_type": "text"
      },
      "source": [
        "<a href=\"https://colab.research.google.com/github/prayagsat99/Python/blob/main/PythonExercises.ipynb\" target=\"_parent\"><img src=\"https://colab.research.google.com/assets/colab-badge.svg\" alt=\"Open In Colab\"/></a>"
      ]
    },
    {
      "cell_type": "markdown",
      "source": [
        "# **Python Fundamentals** "
      ],
      "metadata": {
        "id": "rmGJdf3PqqRH"
      }
    },
    {
      "cell_type": "markdown",
      "source": [
        "##Taking an input by prompt and printing the values"
      ],
      "metadata": {
        "id": "WxvC1XepEr4Y"
      }
    },
    {
      "cell_type": "code",
      "execution_count": null,
      "metadata": {
        "colab": {
          "base_uri": "https://localhost:8080/",
          "height": 70
        },
        "id": "ghNubjRrqKCb",
        "outputId": "6a110304-0ae7-46cc-d789-da43cc39cc4f"
      },
      "outputs": [
        {
          "output_type": "stream",
          "name": "stdout",
          "text": [
            "Enter your name: prayag\n",
            "Your name is prayag\n"
          ]
        },
        {
          "output_type": "execute_result",
          "data": {
            "text/plain": [
              "'My name is prayag'"
            ],
            "application/vnd.google.colaboratory.intrinsic+json": {
              "type": "string"
            }
          },
          "metadata": {},
          "execution_count": 20
        }
      ],
      "source": [
        "name=input(\"Enter your name: \")\n",
        "print(\"Your name is\", name)\n",
        "f'My name is {name}'   #use the variable you want to print in{}"
      ]
    },
    {
      "cell_type": "markdown",
      "source": [
        "##Swapping two variables"
      ],
      "metadata": {
        "id": "8zrzLUCVF8EC"
      }
    },
    {
      "cell_type": "code",
      "source": [
        "#Method one - using a temporary variable\n",
        "a=10\n",
        "b=5\n",
        "temp=a\n",
        "a=b\n",
        "b=temp\n",
        "print(\"the value of a is: \"+str(a) + \" and \"+ \"the value of b is: \"+str(b))"
      ],
      "metadata": {
        "colab": {
          "base_uri": "https://localhost:8080/"
        },
        "id": "AoBcnUMSGFWU",
        "outputId": "1e01e610-34d5-4972-b83d-fed415785063"
      },
      "execution_count": null,
      "outputs": [
        {
          "output_type": "stream",
          "name": "stdout",
          "text": [
            "the value of a is: 5 and the value of b is: 10\n"
          ]
        }
      ]
    },
    {
      "cell_type": "code",
      "source": [
        "#Method two - by tuple exchange | unpacking the tuple and assigning the values to the variables in reverse order.\n",
        "a=10\n",
        "b=5\n",
        "a,b=b,a\n",
        "print(\"the value of a is: \"+str(a) + \" and \"+ \"the value of b is: \"+str(b))"
      ],
      "metadata": {
        "colab": {
          "base_uri": "https://localhost:8080/"
        },
        "id": "J_TKMfyyH3zm",
        "outputId": "12a347e3-6fc3-42f7-ed8d-dc8a414d8c72"
      },
      "execution_count": null,
      "outputs": [
        {
          "output_type": "stream",
          "name": "stdout",
          "text": [
            "the value of a is: 5 and the value of b is: 10\n"
          ]
        }
      ]
    },
    {
      "cell_type": "code",
      "source": [
        "#Method three - by arithmetic operation\n",
        "a=10\n",
        "b=5\n",
        "a=a+b\n",
        "b=a-b\n",
        "a=a-b\n",
        "print(\"the value of a is: \"+str(a) + \" and \"+ \"the value of b is: \"+str(b))"
      ],
      "metadata": {
        "colab": {
          "base_uri": "https://localhost:8080/"
        },
        "id": "aKh_D5S6IJZC",
        "outputId": "ef901dda-a4a2-4ec7-c1ee-b459a7137448"
      },
      "execution_count": null,
      "outputs": [
        {
          "output_type": "stream",
          "name": "stdout",
          "text": [
            "the value of a is: 5 and the value of b is: 10\n"
          ]
        }
      ]
    },
    {
      "cell_type": "markdown",
      "source": [
        "## String Slicing"
      ],
      "metadata": {
        "id": "XH0CMFkyUKbH"
      }
    },
    {
      "cell_type": "code",
      "source": [
        "name=\"Prayag Sathyanath\"\n",
        "print(name[0:10]) #prints from index 0 to 9\n",
        "print(name[7:])   #prints from index 7 to last char\n",
        "print(name[:10])  #prints from index 0 to 9\n",
        "print(name[-12:]) #prints from index -12 to -1\n",
        "print(name[:-1])  #prints from index -1 to first"
      ],
      "metadata": {
        "colab": {
          "base_uri": "https://localhost:8080/"
        },
        "id": "zAtbUi4pUQ6Q",
        "outputId": "7cbabff0-1ad9-4c44-e369-3546f300e092"
      },
      "execution_count": 1,
      "outputs": [
        {
          "output_type": "stream",
          "name": "stdout",
          "text": [
            "Prayag Sat\n",
            "Sathyanath\n",
            "Prayag Sat\n",
            "g Sathyanath\n",
            "Prayag Sathyanat\n"
          ]
        }
      ]
    },
    {
      "cell_type": "markdown",
      "source": [
        "##Print String - Step Slicing | Starting Index : Ending Index : Step Count"
      ],
      "metadata": {
        "id": "Wlt7MZVDQxRt"
      }
    },
    {
      "cell_type": "code",
      "source": [
        "string=\"HelloWorld\"\n",
        "print(string[::2])   #prints from 0 index to last index with step2\n",
        "print(string[2:9:3]) #prints from 2 index to 9-1 index with step3\n",
        "print(string[:8:2])  #prints from 0 index to 8-1 index with step2"
      ],
      "metadata": {
        "id": "36M-R6yuUZXu",
        "colab": {
          "base_uri": "https://localhost:8080/"
        },
        "outputId": "d13f96aa-28ce-4488-cb6d-af0a1942b490"
      },
      "execution_count": null,
      "outputs": [
        {
          "output_type": "stream",
          "name": "stdout",
          "text": [
            "Hlool\n",
            "lWl\n",
            "Hloo\n"
          ]
        }
      ]
    },
    {
      "cell_type": "markdown",
      "source": [
        "##How to Print Reverse of a String using Step Slicing\n"
      ],
      "metadata": {
        "id": "zyb_E-zLSthW"
      }
    },
    {
      "cell_type": "code",
      "source": [
        "#method 1 - using step slicing\n",
        "name=\"Prayag\"\n",
        "print(name[::-1])"
      ],
      "metadata": {
        "colab": {
          "base_uri": "https://localhost:8080/"
        },
        "id": "gStkdHTqQZGY",
        "outputId": "831c581f-dfd4-4610-bfe5-73f29d9c5914"
      },
      "execution_count": null,
      "outputs": [
        {
          "output_type": "stream",
          "name": "stdout",
          "text": [
            "gayarP\n"
          ]
        }
      ]
    },
    {
      "cell_type": "code",
      "source": [
        "#method -2 using string reversal + for loop\n",
        "name=\"Prayag\"\n",
        "for x in reversed(name):\n",
        "  print(x,end=\"\")  "
      ],
      "metadata": {
        "colab": {
          "base_uri": "https://localhost:8080/"
        },
        "id": "4epcaCba5CjU",
        "outputId": "77c04cd8-9826-4f21-942d-2c5687b7a279"
      },
      "execution_count": null,
      "outputs": [
        {
          "output_type": "stream",
          "name": "stdout",
          "text": [
            "gayarP"
          ]
        }
      ]
    },
    {
      "cell_type": "markdown",
      "source": [
        "##Palindrom Program using different methods\n"
      ],
      "metadata": {
        "id": "zjQxWZQyTJFW"
      }
    },
    {
      "cell_type": "code",
      "source": [
        "#method1 - using string step slicing\n",
        "word=input(\"Enter the word:\")\n",
        "print(\"Reverse of the string is:\",word[::-1])\n",
        "if word[::-1] == word :\n",
        "  print(\" It's a palindrom\")\n",
        "else:\n",
        "  print(\"It's not a palindrom\")"
      ],
      "metadata": {
        "colab": {
          "base_uri": "https://localhost:8080/"
        },
        "id": "gTYzDUwGTDgc",
        "outputId": "676779f3-7444-4f30-cace-679c05147d70"
      },
      "execution_count": null,
      "outputs": [
        {
          "output_type": "stream",
          "name": "stdout",
          "text": [
            "Enter the word:malayalam\n",
            "Reverse of the string is: malayalam\n",
            " It's a palindrom\n"
          ]
        }
      ]
    },
    {
      "cell_type": "code",
      "source": [
        "#method2 - for loop +string reversal\n",
        "reversal=\"\"\n",
        "word=input(\"Enter the word:\")\n",
        "for x in reversed(word):\n",
        "  reversal=reversal+x\n",
        "print(\"Reverse of the string is: \",reversal)\n",
        "if reversal==word:\n",
        "  print(\"It is a palindrom\")\n",
        "else:\n",
        "  print(\"Not a palindrom\")   \n",
        "    "
      ],
      "metadata": {
        "colab": {
          "base_uri": "https://localhost:8080/"
        },
        "id": "eQ-0j5yd6Gei",
        "outputId": "3b92f6bd-32f9-4657-ce76-2d00e8c3d8cf"
      },
      "execution_count": null,
      "outputs": [
        {
          "output_type": "stream",
          "name": "stdout",
          "text": [
            "Enter the word:dad\n",
            "Reverse of the string is:  dad\n",
            "It is a palindrom\n"
          ]
        }
      ]
    },
    {
      "cell_type": "markdown",
      "source": [
        "## Case Program using methods"
      ],
      "metadata": {
        "id": "5d__JYK3-dk1"
      }
    },
    {
      "cell_type": "code",
      "source": [
        "string1=input(\"Enter the string: \")\n",
        "if string1.lower()==string1 :\n",
        "  print(\"Lowercase\")\n",
        "elif string1.upper()==string1 :\n",
        "  print(\"Uppercase\")\n",
        "else:\n",
        "  print(\"Upper and Lower Combination\")  \n",
        "    "
      ],
      "metadata": {
        "id": "2rZ_mj3NTya7",
        "colab": {
          "base_uri": "https://localhost:8080/"
        },
        "outputId": "f928b9db-a171-4e4b-fc20-addea19d2051"
      },
      "execution_count": null,
      "outputs": [
        {
          "output_type": "stream",
          "name": "stdout",
          "text": [
            "Enter the string: \n",
            "Lowercase\n"
          ]
        }
      ]
    },
    {
      "cell_type": "markdown",
      "source": [
        "##Count the occurence of a character in a string"
      ],
      "metadata": {
        "id": "kf_0s2V7CfI-"
      }
    },
    {
      "cell_type": "code",
      "source": [
        "#method 1 - using count()\n",
        "string1=\"prayag\"\n",
        "string1.count(\"a\")"
      ],
      "metadata": {
        "colab": {
          "base_uri": "https://localhost:8080/"
        },
        "id": "3KA67qK3ClI1",
        "outputId": "ad3f333e-c6a2-4a8f-bc74-7173a943325a"
      },
      "execution_count": null,
      "outputs": [
        {
          "output_type": "execute_result",
          "data": {
            "text/plain": [
              "2"
            ]
          },
          "metadata": {},
          "execution_count": 16
        }
      ]
    },
    {
      "cell_type": "code",
      "source": [
        "#method2- using for loop\n",
        "string1=\"prayag\"\n",
        "ccount=0\n",
        "print(string1)\n",
        "charsearch=input(\"enter the character to search\")\n",
        "for x in string1:\n",
        "  if x==charsearch:\n",
        "   ccount=ccount+1\n",
        "print(\"The character '\",charsearch,\"' occurs\",ccount,\"times\")  "
      ],
      "metadata": {
        "colab": {
          "base_uri": "https://localhost:8080/"
        },
        "id": "L_kLRSn878hr",
        "outputId": "093e7514-362c-48d7-dc89-55c3dfabb5aa"
      },
      "execution_count": null,
      "outputs": [
        {
          "output_type": "stream",
          "name": "stdout",
          "text": [
            "prayag\n",
            "enter the character to searchb\n",
            "The character ' b ' occurs 0 times\n"
          ]
        }
      ]
    },
    {
      "cell_type": "markdown",
      "source": [
        "##Check for substring\n"
      ],
      "metadata": {
        "id": "K4YdDj-DF17r"
      }
    },
    {
      "cell_type": "code",
      "source": [
        "team=\"Barcelona\"\n",
        "'cel' in team"
      ],
      "metadata": {
        "colab": {
          "base_uri": "https://localhost:8080/"
        },
        "id": "VpcGc6OFFl4I",
        "outputId": "4ace8fb1-214f-42c0-91c9-299915358741"
      },
      "execution_count": null,
      "outputs": [
        {
          "output_type": "execute_result",
          "data": {
            "text/plain": [
              "True"
            ]
          },
          "metadata": {},
          "execution_count": 21
        }
      ]
    },
    {
      "cell_type": "markdown",
      "source": [
        "#Class and Object"
      ],
      "metadata": {
        "id": "w2igR-PUlOag"
      }
    },
    {
      "cell_type": "code",
      "source": [
        "class Car():\n",
        "  def __init__(self,x,y,z):\n",
        "\n",
        "    self.name=str(x)\n",
        "    self.make=str(y)\n",
        "    self.version=int(z)\n",
        "\n",
        "c1=Car(\"Toyota\",\"Supra\",2023)\n",
        "print(c1.name,c1.make,c1.version)  "
      ],
      "metadata": {
        "id": "ilUGgpEs-xYS",
        "colab": {
          "base_uri": "https://localhost:8080/"
        },
        "outputId": "318247ed-afce-4874-aafe-4cf5aba18bac"
      },
      "execution_count": null,
      "outputs": [
        {
          "output_type": "stream",
          "name": "stdout",
          "text": [
            "Toyota Supra 2023\n"
          ]
        }
      ]
    },
    {
      "cell_type": "markdown",
      "source": [
        "###Calculator using classes,objects and methods"
      ],
      "metadata": {
        "id": "815S8wfrofBn"
      }
    },
    {
      "cell_type": "code",
      "source": [
        "class calculator():\n",
        "  def __init__(self,x,y,z):\n",
        "    self.num1=int(x)\n",
        "    self.num2=int(y)\n",
        "    self.op=str(z)\n",
        "\n",
        "  def addition(self):\n",
        "    result=(self.num1+self.num2)\n",
        "    print(result)\n",
        "\n",
        "  def subtraction(self):\n",
        "    result=(self.num1-self.num2)\n",
        "    print(result) \n",
        "\n",
        "  def multiplication(self):\n",
        "    result=(self.num1*self.num2)\n",
        "    print(result)  \n",
        "\n",
        "  def division(self):\n",
        "    result=(self.num1/self.num2)\n",
        "    print(result)\n",
        "\n",
        "c2=calculator(10,20,\"Add\")\n",
        "\n",
        "if(c2.op)==\"Add\":\n",
        "   c2.addition()\n",
        "elif(c2.op)==\"Sub\": \n",
        "   c2.subtraction() \n",
        "elif(c2.op)==\"div\": \n",
        "   c2.division()\n",
        "elif(c2.op)==\"mul\": \n",
        "   c2.multiplication() \n",
        "else:\n",
        "   print(\"Wrong Operation\")             "
      ],
      "metadata": {
        "colab": {
          "base_uri": "https://localhost:8080/"
        },
        "id": "PtoFfgVzoeFq",
        "outputId": "6bf3bc64-4735-4db9-bbbf-d1f2a18de1b8"
      },
      "execution_count": null,
      "outputs": [
        {
          "output_type": "stream",
          "name": "stdout",
          "text": [
            "30\n"
          ]
        }
      ]
    },
    {
      "cell_type": "markdown",
      "source": [
        "###EvenOdd : classes,objects and methods"
      ],
      "metadata": {
        "id": "omd2b51TszZ3"
      }
    },
    {
      "cell_type": "code",
      "source": [
        "class evenodd():\n",
        "  def __init__  (self,x):\n",
        "    self.num=x\n",
        "  \n",
        "    if self.num % 2 == 0:\n",
        "      print(\"The number is even\")\n",
        "    else:\n",
        "      print(\"The number is odd\")\n",
        "\n",
        "check1=evenodd(1)\n"
      ],
      "metadata": {
        "colab": {
          "base_uri": "https://localhost:8080/"
        },
        "id": "-Zc34e9Qo-dl",
        "outputId": "ee6f4318-365f-45d7-aef1-e4d9b1c4daaf"
      },
      "execution_count": null,
      "outputs": [
        {
          "output_type": "stream",
          "name": "stdout",
          "text": [
            "The number is odd\n"
          ]
        }
      ]
    },
    {
      "cell_type": "markdown",
      "source": [
        " ### Prime Number : classes,objects and methods"
      ],
      "metadata": {
        "id": "a9PYt1tgF6W6"
      }
    },
    {
      "cell_type": "code",
      "source": [
        "class prime():\n",
        "  def __init__(self,x):\n",
        "    self.num=x\n",
        "    self.counter=0\n",
        "\n",
        "    for i in range(2,(x*x)+1):\n",
        "      if self.num%i ==0:\n",
        "        self.counter=1   \n",
        "       \n",
        "\n",
        "    if self.counter==0 or self.num==2:\n",
        "      print(self.num,\":The number is a prime number\")\n",
        "    \n",
        "    else:  \n",
        "      print(self.num,\":The number is a non-prime number\") \n",
        "number1=prime(9)\n"
      ],
      "metadata": {
        "id": "maSJqM7elqsu",
        "colab": {
          "base_uri": "https://localhost:8080/"
        },
        "outputId": "c3f70569-e6be-4e73-8df3-a2f33c0b12d8"
      },
      "execution_count": null,
      "outputs": [
        {
          "output_type": "stream",
          "name": "stdout",
          "text": [
            "9 :The number is a non-prime number\n"
          ]
        }
      ]
    },
    {
      "cell_type": "markdown",
      "source": [
        "### Fibonacci: using input()\n"
      ],
      "metadata": {
        "id": "03U114b9Lgyu"
      }
    },
    {
      "cell_type": "code",
      "source": [
        "  def fib(x):\n",
        "    n=x\n",
        "    num1=0\n",
        "    num2=1\n",
        "    print(\"Fibonacci series for \", x ,\"numbers are:\")\n",
        "    print(num1,end=\" \")\n",
        "    print(num2,end=\" \")\n",
        "\n",
        "    for i in range(2,n):\n",
        "      num3=num1+num2\n",
        "      print(num3,end=\" \")\n",
        "      num1=num2\n",
        "      num2=num3\n",
        "\n",
        "  inp=input(\"Enter the n value:\")\n",
        "  fib(int(inp))      \n",
        "\n"
      ],
      "metadata": {
        "id": "cwN7E6N0rFFs",
        "colab": {
          "base_uri": "https://localhost:8080/"
        },
        "outputId": "21e33ef2-d83b-4a65-bb5a-9748cd451852"
      },
      "execution_count": 16,
      "outputs": [
        {
          "output_type": "stream",
          "name": "stdout",
          "text": [
            "Enter the n value:10\n",
            "Fibonacci series for  10 numbers are:\n",
            "0 1 1 2 3 5 8 13 21 34 "
          ]
        }
      ]
    },
    {
      "cell_type": "markdown",
      "source": [
        "### List of prime numbers using filtered function"
      ],
      "metadata": {
        "id": "q3MD6FNIrLVL"
      }
    },
    {
      "cell_type": "code",
      "source": [
        "def prime(n):\n",
        "    if n < 2:\n",
        "        return False\n",
        "    for x in range(2, n):\n",
        "        if n % x == 0:\n",
        "            return False\n",
        "    return True\n",
        "\n",
        "f1 = filter(prime, range(15))\n",
        "listf1 = list(f1)\n",
        "\n",
        "print(\"The prime numbers are:\", listf1)\n",
        "\n",
        "print(\"The non-prime numbers are:\")\n",
        "for x in range(15):\n",
        "    if x not in listf1:\n",
        "        print(x, end=\" \")"
      ],
      "metadata": {
        "colab": {
          "base_uri": "https://localhost:8080/"
        },
        "id": "XHkjkBBKrLCb",
        "outputId": "e42d924d-415d-4d84-8920-345599c8c8ec"
      },
      "execution_count": 20,
      "outputs": [
        {
          "output_type": "stream",
          "name": "stdout",
          "text": [
            "The prime numbers are: [2, 3, 5, 7, 11, 13]\n",
            "The non-prime numbers are:\n",
            "0 1 4 6 8 9 10 12 14 "
          ]
        }
      ]
    },
    {
      "cell_type": "markdown",
      "source": [
        "### Get a list of name as an input from the user and make the first letters in caps and print each word as a list in python"
      ],
      "metadata": {
        "id": "Q1GIzXXPIlbP"
      }
    },
    {
      "cell_type": "code",
      "source": [
        "names = input(\"Enter a list of names separated by commas: \")\n",
        "\n",
        "names_list = names.split(\",\")  # Split the input string into a list of names\n",
        "names_list = [name.strip().capitalize() for name in names_list]  # Capitalize the first letter of each name and remove leading/trailing whitespace\n",
        "\n",
        "for name in names_list:\n",
        "    print(list(name))  # Convert the name string to a list of characters and print each character\n"
      ],
      "metadata": {
        "id": "oCZUDOMdMseR",
        "colab": {
          "base_uri": "https://localhost:8080/"
        },
        "outputId": "46b9cc49-e2a2-47dc-ccbb-b74f7c5c5575"
      },
      "execution_count": null,
      "outputs": [
        {
          "output_type": "stream",
          "name": "stdout",
          "text": [
            "Enter a list of names separated by commas: prayag,dravid,sachin,messi\n",
            "['P', 'r', 'a', 'y', 'a', 'g']\n",
            "['D', 'r', 'a', 'v', 'i', 'd']\n",
            "['S', 'a', 'c', 'h', 'i', 'n']\n",
            "['M', 'e', 's', 's', 'i']\n"
          ]
        }
      ]
    },
    {
      "cell_type": "markdown",
      "source": [
        "### Write a Python code to configure the MySQL Connector in your system and Insert data to MySQL Table after which you Fetch and Display data from Table"
      ],
      "metadata": {
        "id": "eBtmJCYfJrZQ"
      }
    },
    {
      "cell_type": "code",
      "source": [
        "import mysql.connector\n",
        "\n",
        "# Establish a connection to the MySQL database\n",
        "db = mysql.connector.connect(\n",
        "    host=\"localhost\",\n",
        "    user=\"yourusername\",\n",
        "    password=\"yourpassword\",\n",
        "    database=\"yourdatabase\"\n",
        ")\n",
        "\n",
        "# Create a cursor object to interact with the database\n",
        "cursor = db.cursor()\n",
        "\n",
        "# Create a table if it doesn't exist\n",
        "cursor.execute(\"CREATE TABLE IF NOT EXISTS users (id INT AUTO_INCREMENT PRIMARY KEY, name VARCHAR(255), email VARCHAR(255))\")\n",
        "\n",
        "# Insert data into the table\n",
        "sql = \"INSERT INTO users (name, email) VALUES (%s, %s)\"\n",
        "values = (\"John Doe\", \"johndoe@example.com\")\n",
        "cursor.execute(sql, values)\n",
        "db.commit()\n",
        "print(cursor.rowcount, \"record inserted.\")\n",
        "\n",
        "# Fetch data from the table\n",
        "cursor.execute(\"SELECT * FROM users\")\n",
        "result = cursor.fetchall()\n",
        "\n",
        "# Display the data\n",
        "for row in result:\n",
        "    print(row)\n",
        "    \n",
        "# Close the database connection\n",
        "db.close()"
      ],
      "metadata": {
        "id": "E4IfeqexJOip"
      },
      "execution_count": null,
      "outputs": []
    },
    {
      "cell_type": "code",
      "source": [
        "num1 = int(input(\"Enter an integer: \"))\n",
        "num1rev= int(str(num1)[::-1])\n",
        "\n",
        "print(\"The reversed integer is:\", num1rev)"
      ],
      "metadata": {
        "colab": {
          "base_uri": "https://localhost:8080/"
        },
        "id": "Zu9kcThQKd9Y",
        "outputId": "47ce6384-94b4-4465-b02f-c7edae5c4587"
      },
      "execution_count": null,
      "outputs": [
        {
          "output_type": "stream",
          "name": "stdout",
          "text": [
            "Enter an integer: 456\n",
            "The reversed integer is: 654\n"
          ]
        }
      ]
    },
    {
      "cell_type": "code",
      "source": [],
      "metadata": {
        "id": "h00Fqux6Kvkx"
      },
      "execution_count": null,
      "outputs": []
    }
  ]
}