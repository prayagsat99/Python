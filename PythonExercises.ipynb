{
  "nbformat": 4,
  "nbformat_minor": 0,
  "metadata": {
    "colab": {
      "provenance": [],
      "authorship_tag": "ABX9TyP8upoCpGLXMaV0cckpR+dk",
      "include_colab_link": true
    },
    "kernelspec": {
      "name": "python3",
      "display_name": "Python 3"
    },
    "language_info": {
      "name": "python"
    }
  },
  "cells": [
    {
      "cell_type": "markdown",
      "metadata": {
        "id": "view-in-github",
        "colab_type": "text"
      },
      "source": [
        "<a href=\"https://colab.research.google.com/github/prayagsat99/Python/blob/main/PythonExercises.ipynb\" target=\"_parent\"><img src=\"https://colab.research.google.com/assets/colab-badge.svg\" alt=\"Open In Colab\"/></a>"
      ]
    },
    {
      "cell_type": "markdown",
      "source": [
        "# **Python Fundamentals** "
      ],
      "metadata": {
        "id": "rmGJdf3PqqRH"
      }
    },
    {
      "cell_type": "code",
      "execution_count": null,
      "metadata": {
        "colab": {
          "base_uri": "https://localhost:8080/"
        },
        "id": "ghNubjRrqKCb",
        "outputId": "f6dcde95-d567-4761-fd52-eb5a54eff883"
      },
      "outputs": [
        {
          "output_type": "stream",
          "name": "stdout",
          "text": [
            "Enter your name: Prayag Sathyanath\n",
            "Your name is Prayag Sathyanath\n"
          ]
        }
      ],
      "source": [
        "name=input(\"Enter your name: \")\n",
        "print(\"Your name is\", name)"
      ]
    },
    {
      "cell_type": "markdown",
      "source": [
        "##Swapping two variables"
      ],
      "metadata": {
        "id": "8zrzLUCVF8EC"
      }
    },
    {
      "cell_type": "code",
      "source": [
        "#Method one - using a temporary variable\n",
        "a=10\n",
        "b=5\n",
        "temp=a\n",
        "a=b\n",
        "b=temp\n",
        "print(\"the value of a is: \"+str(a) + \" and \"+ \"the value of b is: \"+str(b))"
      ],
      "metadata": {
        "colab": {
          "base_uri": "https://localhost:8080/"
        },
        "id": "AoBcnUMSGFWU",
        "outputId": "1e01e610-34d5-4972-b83d-fed415785063"
      },
      "execution_count": null,
      "outputs": [
        {
          "output_type": "stream",
          "name": "stdout",
          "text": [
            "the value of a is: 5 and the value of b is: 10\n"
          ]
        }
      ]
    },
    {
      "cell_type": "code",
      "source": [
        "#Method two - by tuple exchange | unpacking the tuple and assigning the values to the variables in reverse order.\n",
        "a=10\n",
        "b=5\n",
        "a,b=b,a\n",
        "print(\"the value of a is: \"+str(a) + \" and \"+ \"the value of b is: \"+str(b))"
      ],
      "metadata": {
        "colab": {
          "base_uri": "https://localhost:8080/"
        },
        "id": "J_TKMfyyH3zm",
        "outputId": "12a347e3-6fc3-42f7-ed8d-dc8a414d8c72"
      },
      "execution_count": null,
      "outputs": [
        {
          "output_type": "stream",
          "name": "stdout",
          "text": [
            "the value of a is: 5 and the value of b is: 10\n"
          ]
        }
      ]
    },
    {
      "cell_type": "code",
      "source": [
        "#Method three - by arithmetic operation\n",
        "a=10\n",
        "b=5\n",
        "a=a+b\n",
        "b=a-b\n",
        "a=a-b\n",
        "print(\"the value of a is: \"+str(a) + \" and \"+ \"the value of b is: \"+str(b))"
      ],
      "metadata": {
        "colab": {
          "base_uri": "https://localhost:8080/"
        },
        "id": "aKh_D5S6IJZC",
        "outputId": "ef901dda-a4a2-4ec7-c1ee-b459a7137448"
      },
      "execution_count": null,
      "outputs": [
        {
          "output_type": "stream",
          "name": "stdout",
          "text": [
            "the value of a is: 5 and the value of b is: 10\n"
          ]
        }
      ]
    },
    {
      "cell_type": "markdown",
      "source": [
        "## String Slicing"
      ],
      "metadata": {
        "id": "XH0CMFkyUKbH"
      }
    },
    {
      "cell_type": "code",
      "source": [
        "name=\"Prayag Sathyanath\"\n",
        "print(name[0:10]) #prints from index 0 to 9\n",
        "print(name[7:])   #prints from index 8 to last char\n",
        "print(name[:10])  #prints from index 0 to 9\n",
        "print(name[-12:]) #prints from index -12 to -1\n",
        "print(name[:-1])  #prints from index -1 to first"
      ],
      "metadata": {
        "colab": {
          "base_uri": "https://localhost:8080/"
        },
        "id": "zAtbUi4pUQ6Q",
        "outputId": "91fd4c7e-15bf-4e90-e854-8a4f16b95ee1"
      },
      "execution_count": 10,
      "outputs": [
        {
          "output_type": "stream",
          "name": "stdout",
          "text": [
            "Prayag Sat\n",
            "Sathyanath\n",
            "Prayag Sat\n",
            "g Sathyanath\n",
            "Prayag Sathyanat\n"
          ]
        }
      ]
    },
    {
      "cell_type": "code",
      "source": [],
      "metadata": {
        "id": "36M-R6yuUZXu"
      },
      "execution_count": null,
      "outputs": []
    }
  ]
}