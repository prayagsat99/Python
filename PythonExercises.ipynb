{
  "nbformat": 4,
  "nbformat_minor": 0,
  "metadata": {
    "colab": {
      "provenance": [],
      "authorship_tag": "ABX9TyOjQu2dzPMZcpKyUJAgdTJa",
      "include_colab_link": true
    },
    "kernelspec": {
      "name": "python3",
      "display_name": "Python 3"
    },
    "language_info": {
      "name": "python"
    }
  },
  "cells": [
    {
      "cell_type": "markdown",
      "metadata": {
        "id": "view-in-github",
        "colab_type": "text"
      },
      "source": [
        "<a href=\"https://colab.research.google.com/github/prayagsat99/python/blob/main/PythonExercises.ipynb\" target=\"_parent\"><img src=\"https://colab.research.google.com/assets/colab-badge.svg\" alt=\"Open In Colab\"/></a>"
      ]
    },
    {
      "cell_type": "markdown",
      "source": [
        "**Python Fundamentals**"
      ],
      "metadata": {
        "id": "rmGJdf3PqqRH"
      }
    },
    {
      "cell_type": "code",
      "execution_count": 1,
      "metadata": {
        "colab": {
          "base_uri": "https://localhost:8080/"
        },
        "id": "ghNubjRrqKCb",
        "outputId": "8ca4de54-4117-4414-92ff-0c8244efea00"
      },
      "outputs": [
        {
          "output_type": "stream",
          "name": "stdout",
          "text": [
            "Enter your name:Prayag Sathyanath\n",
            "Prayag Sathyanath\n"
          ]
        }
      ],
      "source": [
        "name=input(\"Enter your name:\")\n",
        "print(name)"
      ]
    },
    {
      "cell_type": "code",
      "source": [
        "print(\"Your name is\", name)"
      ],
      "metadata": {
        "colab": {
          "base_uri": "https://localhost:8080/"
        },
        "id": "BNv8N0h4xTu_",
        "outputId": "553350e2-fa63-4e8b-89fb-0eb450ce9992"
      },
      "execution_count": 2,
      "outputs": [
        {
          "output_type": "stream",
          "name": "stdout",
          "text": [
            "Your name is Prayag Sathyanath\n"
          ]
        }
      ]
    }
  ]
}